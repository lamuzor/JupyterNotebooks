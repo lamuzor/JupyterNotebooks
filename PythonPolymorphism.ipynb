{
 "cells": [
  {
   "cell_type": "code",
   "execution_count": 3,
   "id": "2b8afd8d",
   "metadata": {},
   "outputs": [
    {
     "name": "stdout",
     "output_type": "stream",
     "text": [
      "Driving !!\n",
      "sailing the seas\n",
      "Fly!!\n"
     ]
    }
   ],
   "source": [
    "class Boat:\n",
    "    def __init__ (self, brand , model):\n",
    "        self.brand = brand\n",
    "        self.mode = model\n",
    "        \n",
    "    def move(self):\n",
    "        print(\"sailing the seas\")\n",
    "        \n",
    "class Plane:\n",
    "    def __init__ (self , brand, model):\n",
    "        self.brand = brand\n",
    "        self.model = model\n",
    "    \n",
    "    def move(self):\n",
    "        print(\"Fly!!\")\n",
    "        \n",
    "class Car:\n",
    "    def __init__ (self , brand, model):\n",
    "        self.brand = brand\n",
    "        self.model = model\n",
    "    \n",
    "    def move(self):\n",
    "        print(\"Driving !!\")\n",
    "        \n",
    "\n",
    "car1 = Car ('Ford', 'Mustang')\n",
    "boat1= Boat ('Ibiza' , 'Touring 20')\n",
    "plane1= Plane ('Boeing' , '737')\n",
    "\n",
    "for x in ( car1, boat1, plane1):\n",
    "    x.move()\n"
   ]
  },
  {
   "cell_type": "code",
   "execution_count": 5,
   "id": "4b830adc",
   "metadata": {},
   "outputs": [
    {
     "name": "stdout",
     "output_type": "stream",
     "text": [
      "FORD\n",
      "ESCAPE\n",
      "Move!!\n",
      "=========\n",
      "USS\n",
      "GEORGE WASHINGTON\n",
      "Titanic sailing\n",
      "=========\n",
      "BOEING\n",
      "777\n",
      "Boeing Flying!!\n",
      "=========\n"
     ]
    }
   ],
   "source": [
    "class Vehicle:\n",
    "    def __init__(self, brand, model):\n",
    "        self.brand = brand\n",
    "        self.model = model\n",
    "    def move(self):\n",
    "        print(\"Move!!\")\n",
    "        \n",
    "class Automobile(Vehicle):\n",
    "    pass\n",
    "\n",
    "class Submarine(Vehicle):\n",
    "    def move(self):\n",
    "        print(\"Titanic sailing\")\n",
    "class Aeroplane(Vehicle):\n",
    "    def move(self):\n",
    "        print(\"Boeing Flying!!\")\n",
    "        \n",
    "car2= Automobile('FORD' , 'ESCAPE')\n",
    "ship2 = Submarine('USS', 'GEORGE WASHINGTON')\n",
    "plane2 = Aeroplane('BOEING', '777')\n",
    "\n",
    "for x  in (car2, ship2, plane2):\n",
    "    print(x.brand)\n",
    "    print(x.model)\n",
    "    x.move()\n",
    "    print(\"=========\")\n",
    "    "
   ]
  },
  {
   "cell_type": "code",
   "execution_count": 6,
   "id": "cbc478ba",
   "metadata": {},
   "outputs": [
    {
     "ename": "ModuleNotFoundError",
     "evalue": "No module named 'Tkinter'",
     "output_type": "error",
     "traceback": [
      "\u001b[1;31m---------------------------------------------------------------------------\u001b[0m",
      "\u001b[1;31mModuleNotFoundError\u001b[0m                       Traceback (most recent call last)",
      "Cell \u001b[1;32mIn[6], line 1\u001b[0m\n\u001b[1;32m----> 1\u001b[0m \u001b[38;5;28;01mfrom\u001b[39;00m \u001b[38;5;21;01mTkinter\u001b[39;00m \u001b[38;5;28;01mimport\u001b[39;00m Label\n\u001b[0;32m      2\u001b[0m widget \u001b[38;5;241m=\u001b[39m Label(\u001b[38;5;28;01mNone\u001b[39;00m, text\u001b[38;5;241m=\u001b[39m \u001b[38;5;124m'\u001b[39m\u001b[38;5;124mHello world\u001b[39m\u001b[38;5;124m'\u001b[39m)\n\u001b[0;32m      3\u001b[0m widget\u001b[38;5;241m.\u001b[39mpack()\n",
      "\u001b[1;31mModuleNotFoundError\u001b[0m: No module named 'Tkinter'"
     ]
    }
   ],
   "source": [
    "from Tkinter import Label\n",
    "widget = Label(None, text= 'Hello world')\n",
    "widget.pack()\n",
    "widget.mainloop()"
   ]
  },
  {
   "cell_type": "code",
   "execution_count": 1,
   "id": "0117aed2",
   "metadata": {},
   "outputs": [
    {
     "name": "stdout",
     "output_type": "stream",
     "text": [
      "True\n"
     ]
    }
   ],
   "source": [
    "print(True > False)"
   ]
  },
  {
   "cell_type": "code",
   "execution_count": 2,
   "id": "d2c4414d",
   "metadata": {},
   "outputs": [
    {
     "name": "stdout",
     "output_type": "stream",
     "text": [
      "False\n"
     ]
    }
   ],
   "source": [
    "print(False >True)"
   ]
  },
  {
   "cell_type": "code",
   "execution_count": 3,
   "id": "75153d48",
   "metadata": {},
   "outputs": [
    {
     "name": "stdout",
     "output_type": "stream",
     "text": [
      "1\n"
     ]
    }
   ],
   "source": [
    "print(9 % 6 % 2)"
   ]
  },
  {
   "cell_type": "code",
   "execution_count": 4,
   "id": "d72200ef",
   "metadata": {},
   "outputs": [
    {
     "name": "stdout",
     "output_type": "stream",
     "text": [
      "1\n"
     ]
    }
   ],
   "source": [
    "print((9 % 6) % 2)"
   ]
  },
  {
   "cell_type": "code",
   "execution_count": 5,
   "id": "f9946d52",
   "metadata": {},
   "outputs": [
    {
     "ename": "ZeroDivisionError",
     "evalue": "integer modulo by zero",
     "output_type": "error",
     "traceback": [
      "\u001b[1;31m---------------------------------------------------------------------------\u001b[0m",
      "\u001b[1;31mZeroDivisionError\u001b[0m                         Traceback (most recent call last)",
      "Cell \u001b[1;32mIn[5], line 1\u001b[0m\n\u001b[1;32m----> 1\u001b[0m \u001b[38;5;28mprint\u001b[39m(\u001b[38;5;241m9\u001b[39m \u001b[38;5;241m%\u001b[39m (\u001b[38;5;241m6\u001b[39m \u001b[38;5;241m%\u001b[39m \u001b[38;5;241m2\u001b[39m))\n",
      "\u001b[1;31mZeroDivisionError\u001b[0m: integer modulo by zero"
     ]
    }
   ],
   "source": [
    "print(9 % (6 % 2))"
   ]
  },
  {
   "cell_type": "code",
   "execution_count": 8,
   "id": "0d06513e",
   "metadata": {},
   "outputs": [
    {
     "name": "stdout",
     "output_type": "stream",
     "text": [
      "2.25\n"
     ]
    }
   ],
   "source": [
    "print((9/4))"
   ]
  },
  {
   "cell_type": "code",
   "execution_count": 9,
   "id": "b0b0a48e",
   "metadata": {},
   "outputs": [
    {
     "name": "stdout",
     "output_type": "stream",
     "text": [
      "Python version: 3.8.5\n"
     ]
    }
   ],
   "source": [
    "var = \"3.8.5\"\n",
    "print(\"Python version: \" + var)"
   ]
  },
  {
   "cell_type": "code",
   "execution_count": null,
   "id": "dead7b69",
   "metadata": {},
   "outputs": [],
   "source": []
  }
 ],
 "metadata": {
  "kernelspec": {
   "display_name": "Python 3 (ipykernel)",
   "language": "python",
   "name": "python3"
  },
  "language_info": {
   "codemirror_mode": {
    "name": "ipython",
    "version": 3
   },
   "file_extension": ".py",
   "mimetype": "text/x-python",
   "name": "python",
   "nbconvert_exporter": "python",
   "pygments_lexer": "ipython3",
   "version": "3.11.5"
  }
 },
 "nbformat": 4,
 "nbformat_minor": 5
}
