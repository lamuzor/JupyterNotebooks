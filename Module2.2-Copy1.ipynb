{
 "cells": [
  {
   "cell_type": "code",
   "execution_count": 1,
   "id": "97d56857",
   "metadata": {},
   "outputs": [
    {
     "name": "stdout",
     "output_type": "stream",
     "text": [
      "__doc__\t__loader__\t__name__\t__package__\t__spec__\tacos\tacosh\tasin\tasinh\tatan\tatan2\tatanh\tcbrt\tceil\tcomb\tcopysign\tcos\tcosh\tdegrees\tdist\te\terf\terfc\texp\texp2\texpm1\tfabs\tfactorial\tfloor\tfmod\tfrexp\tfsum\tgamma\tgcd\thypot\tinf\tisclose\tisfinite\tisinf\tisnan\tisqrt\tlcm\tldexp\tlgamma\tlog\tlog10\tlog1p\tlog2\tmodf\tnan\tnextafter\tperm\tpi\tpow\tprod\tradians\tremainder\tsin\tsinh\tsqrt\ttan\ttanh\ttau\ttrunc\tulp\t"
     ]
    }
   ],
   "source": [
    "import math\n",
    "for name in dir(math):\n",
    "    print(name , end= \"\\t\")"
   ]
  },
  {
   "cell_type": "code",
   "execution_count": 2,
   "id": "edea24eb",
   "metadata": {},
   "outputs": [
    {
     "name": "stdout",
     "output_type": "stream",
     "text": [
      "120\n"
     ]
    }
   ],
   "source": [
    "print(math.factorial(5))"
   ]
  },
  {
   "cell_type": "code",
   "execution_count": 8,
   "id": "3277676d",
   "metadata": {},
   "outputs": [
    {
     "name": "stdout",
     "output_type": "stream",
     "text": [
      "1.5707963267948966\n",
      "1.633123935319537e+16\n"
     ]
    }
   ],
   "source": [
    "angle= math.radians(90)\n",
    "\n",
    "print(math.tan(angle))"
   ]
  },
  {
   "cell_type": "code",
   "execution_count": 9,
   "id": "ac7ba0a2",
   "metadata": {},
   "outputs": [
    {
     "name": "stdout",
     "output_type": "stream",
     "text": [
      "True\n",
      "True\n",
      "True\n",
      "True\n"
     ]
    }
   ],
   "source": [
    "from math import pi, radians, degrees, sin , cos, tan, asin\n",
    "\n",
    "ad = 90\n",
    "ar=radians(ad)\n",
    "ad = degrees(ar)\n",
    "\n",
    "print(ad==90)\n",
    "print(ar==pi/2)\n",
    "print(sin(ar) / cos(ar) == tan(ar))\n",
    "print(asin(sin(ar))== ar)"
   ]
  },
  {
   "cell_type": "code",
   "execution_count": 10,
   "id": "ac913c07",
   "metadata": {},
   "outputs": [
    {
     "name": "stdout",
     "output_type": "stream",
     "text": [
      "True\n",
      "True\n",
      "True\n"
     ]
    }
   ],
   "source": [
    "from math import e, exp, log\n",
    "\n",
    "print(pow(e, 1)==exp(log(e)))\n",
    "print(pow(2,2)==exp(2*log(2)))\n",
    "print(log(e, e)==exp(0))"
   ]
  },
  {
   "cell_type": "code",
   "execution_count": 11,
   "id": "c282da3e",
   "metadata": {},
   "outputs": [
    {
     "name": "stdout",
     "output_type": "stream",
     "text": [
      "1 2\n",
      "-2 -3\n",
      "2 3\n",
      "-1 -2\n",
      "1 2\n",
      "-1 -2\n"
     ]
    }
   ],
   "source": [
    "from math import ceil, floor, trunc\n",
    "\n",
    "x = 1.4\n",
    "y = 2.6\n",
    "\n",
    "print(floor(x), floor(y))\n",
    "print(floor(-x), floor(-y))\n",
    "print(ceil(x), ceil(y))\n",
    "print(ceil(-x), ceil(-y))\n",
    "print(trunc(x), trunc(y))\n",
    "print(trunc(-x), trunc(-y))"
   ]
  },
  {
   "cell_type": "code",
   "execution_count": 13,
   "id": "8850d548",
   "metadata": {},
   "outputs": [
    {
     "name": "stdout",
     "output_type": "stream",
     "text": [
      "0.17163601462043165\n",
      "0.3329703216458756\n",
      "0.8503584035985811\n",
      "0.11644347797928822\n",
      "0.22856711045393419\n"
     ]
    }
   ],
   "source": [
    "from random import random\n",
    "\n",
    "for i in range(5):\n",
    "    print(random())"
   ]
  },
  {
   "cell_type": "code",
   "execution_count": 47,
   "id": "92a2740c",
   "metadata": {},
   "outputs": [
    {
     "name": "stdout",
     "output_type": "stream",
     "text": [
      "0.8444218515250481\n",
      "0.7579544029403025\n",
      "0.420571580830845\n",
      "0.25891675029296335\n",
      "0.5112747213686085\n"
     ]
    }
   ],
   "source": [
    "from random import random, seed\n",
    "seed(0)\n",
    "\n",
    "for i in range (5):\n",
    "    print(random())"
   ]
  },
  {
   "cell_type": "code",
   "execution_count": 45,
   "id": "4fe4cc3f",
   "metadata": {},
   "outputs": [
    {
     "name": "stdout",
     "output_type": "stream",
     "text": [
      "7 3 9 3\n"
     ]
    }
   ],
   "source": [
    "from random import randrange, randint\n",
    "\n",
    "print(randrange(10), end=' ')\n",
    "print(randrange(0, 5), end=' ')\n",
    "print(randrange(0, 10, 3), end=' ')\n",
    "print(randint(0, 10))\n"
   ]
  },
  {
   "cell_type": "code",
   "execution_count": 46,
   "id": "d4df0482",
   "metadata": {},
   "outputs": [
    {
     "name": "stdout",
     "output_type": "stream",
     "text": [
      "2:8:1:7:7:10:1:8:5:4:"
     ]
    }
   ],
   "source": [
    "from random import randint\n",
    "\n",
    "for i in range (10):\n",
    "    print(randint(1, 10) , end= \":\")"
   ]
  },
  {
   "cell_type": "code",
   "execution_count": 31,
   "id": "d66d932c",
   "metadata": {},
   "outputs": [
    {
     "name": "stdout",
     "output_type": "stream",
     "text": [
      "9\n",
      "1\n",
      "8\n",
      "1\n",
      "2\n",
      "6\n",
      "9\n"
     ]
    }
   ],
   "source": [
    "list= [i for i in range(10)]\n",
    "\n",
    "from random import choice\n",
    "for i in range (7):\n",
    "    print(choice(list))"
   ]
  },
  {
   "cell_type": "code",
   "execution_count": 34,
   "id": "9c6cb625",
   "metadata": {},
   "outputs": [
    {
     "name": "stdout",
     "output_type": "stream",
     "text": [
      "1\n",
      "[9, 1, 6, 3, 2]\n",
      "[2, 5, 8, 4, 9, 10, 7, 6, 1, 3]\n"
     ]
    }
   ],
   "source": [
    "from random import choice, sample\n",
    "\n",
    "my_list = [1, 2, 3, 4, 5, 6, 7, 8, 9, 10]\n",
    "\n",
    "print(choice(my_list))\n",
    "print(sample(my_list, 5))\n",
    "print(sample(my_list, 10))\n",
    "\n",
    "\n"
   ]
  },
  {
   "cell_type": "code",
   "execution_count": 36,
   "id": "62ad4dd5",
   "metadata": {},
   "outputs": [
    {
     "name": "stdout",
     "output_type": "stream",
     "text": [
      "Windows-10-10.0.22621-SP0\n",
      "Windows-10-10.0.22621-SP0\n",
      "Windows-10\n"
     ]
    }
   ],
   "source": [
    "from platform import platform\n",
    "\n",
    "print(platform())\n",
    "print(platform(1))\n",
    "print(platform(0, 1))"
   ]
  },
  {
   "cell_type": "code",
   "execution_count": 37,
   "id": "df79875e",
   "metadata": {},
   "outputs": [
    {
     "name": "stdout",
     "output_type": "stream",
     "text": [
      "AMD64\n"
     ]
    }
   ],
   "source": [
    "from platform import machine\n",
    "print(machine())"
   ]
  },
  {
   "cell_type": "code",
   "execution_count": 38,
   "id": "e8cca23b",
   "metadata": {},
   "outputs": [
    {
     "name": "stdout",
     "output_type": "stream",
     "text": [
      "Intel64 Family 6 Model 154 Stepping 4, GenuineIntel\n"
     ]
    }
   ],
   "source": [
    "from platform import processor\n",
    "\n",
    "print(processor())"
   ]
  },
  {
   "cell_type": "code",
   "execution_count": 39,
   "id": "99b897f1",
   "metadata": {},
   "outputs": [
    {
     "name": "stdout",
     "output_type": "stream",
     "text": [
      "Windows\n"
     ]
    }
   ],
   "source": [
    "from platform import system\n",
    "print(system())"
   ]
  },
  {
   "cell_type": "code",
   "execution_count": 40,
   "id": "7530deda",
   "metadata": {},
   "outputs": [
    {
     "name": "stdout",
     "output_type": "stream",
     "text": [
      "10.0.22621\n"
     ]
    }
   ],
   "source": [
    "from platform import version\n",
    "\n",
    "print(version())\n"
   ]
  },
  {
   "cell_type": "code",
   "execution_count": 41,
   "id": "18d2c5e3",
   "metadata": {},
   "outputs": [
    {
     "name": "stdout",
     "output_type": "stream",
     "text": [
      "CPython\n",
      "3\n",
      "11\n",
      "5\n"
     ]
    }
   ],
   "source": [
    "from platform import python_implementation, python_version_tuple\n",
    "\n",
    "print(python_implementation())\n",
    "\n",
    "for atr in python_version_tuple():\n",
    "    print(atr)\n"
   ]
  },
  {
   "cell_type": "code",
   "execution_count": 42,
   "id": "c51d5d71",
   "metadata": {},
   "outputs": [
    {
     "name": "stdout",
     "output_type": "stream",
     "text": [
      "_Processor\t_WIN32_CLIENT_RELEASES\t_WIN32_SERVER_RELEASES\t__builtins__\t__cached__\t__copyright__\t__doc__\t__file__\t__loader__\t__name__\t__package__\t__spec__\t__version__\t_comparable_version\t_component_re\t_default_architecture\t_follow_symlinks\t_get_machine_win32\t_ironpython26_sys_version_parser\t_ironpython_sys_version_parser\t_java_getprop\t_libc_search\t_mac_ver_xml\t_node\t_norm_version\t_os_release_cache\t_os_release_candidates\t_os_release_line\t_os_release_unescape\t_parse_os_release\t_platform\t_platform_cache\t_pypy_sys_version_parser\t_sys_version\t_sys_version_cache\t_sys_version_parser\t_syscmd_file\t_syscmd_ver\t_uname_cache\t_unknown_as_blank\t_ver_output\t_ver_stages\tarchitecture\tcollections\tfreedesktop_os_release\tfunctools\titertools\tjava_ver\tlibc_ver\tmac_ver\tmachine\tnode\tos\tplatform\tprocessor\tpython_branch\tpython_build\tpython_compiler\tpython_implementation\tpython_revision\tpython_version\tpython_version_tuple\tre\trelease\tsys\tsystem\tsystem_alias\tuname\tuname_result\tversion\twin32_edition\twin32_is_iot\twin32_ver\t"
     ]
    }
   ],
   "source": [
    "import platform\n",
    "for name in dir(platform):\n",
    "    print(name , end= \"\\t\")"
   ]
  },
  {
   "cell_type": "code",
   "execution_count": 43,
   "id": "147e4016",
   "metadata": {},
   "outputs": [
    {
     "name": "stdout",
     "output_type": "stream",
     "text": [
      "['DirEntry', 'EX_OK', 'F_OK', 'GenericAlias', 'Mapping', 'MutableMapping', 'O_APPEND', 'O_BINARY', 'O_CREAT', 'O_EXCL', 'O_NOINHERIT', 'O_RANDOM', 'O_RDONLY', 'O_RDWR', 'O_SEQUENTIAL', 'O_SHORT_LIVED', 'O_TEMPORARY', 'O_TEXT', 'O_TRUNC', 'O_WRONLY', 'P_DETACH', 'P_NOWAIT', 'P_NOWAITO', 'P_OVERLAY', 'P_WAIT', 'PathLike', 'R_OK', 'SEEK_CUR', 'SEEK_END', 'SEEK_SET', 'TMP_MAX', 'W_OK', 'X_OK', '_AddedDllDirectory', '_Environ', '__all__', '__builtins__', '__doc__', '__file__', '__loader__', '__name__', '__package__', '__spec__', '_check_methods', '_execvpe', '_exists', '_exit', '_fspath', '_get_exports_list', '_walk', '_wrap_close', 'abc', 'abort', 'access', 'add_dll_directory', 'altsep', 'chdir', 'chmod', 'close', 'closerange', 'cpu_count', 'curdir', 'defpath', 'device_encoding', 'devnull', 'dup', 'dup2', 'environ', 'error', 'execl', 'execle', 'execlp', 'execlpe', 'execv', 'execve', 'execvp', 'execvpe', 'extsep', 'fdopen', 'fsdecode', 'fsencode', 'fspath', 'fstat', 'fsync', 'ftruncate', 'get_exec_path', 'get_handle_inheritable', 'get_inheritable', 'get_terminal_size', 'getcwd', 'getcwdb', 'getenv', 'getlogin', 'getpid', 'getppid', 'isatty', 'kill', 'linesep', 'link', 'listdir', 'lseek', 'lstat', 'makedirs', 'mkdir', 'name', 'open', 'pardir', 'path', 'pathsep', 'pipe', 'popen', 'putenv', 'read', 'readlink', 'remove', 'removedirs', 'rename', 'renames', 'replace', 'rmdir', 'scandir', 'sep', 'set_handle_inheritable', 'set_inheritable', 'spawnl', 'spawnle', 'spawnv', 'spawnve', 'st', 'startfile', 'stat', 'stat_result', 'statvfs_result', 'strerror', 'supports_bytes_environ', 'supports_dir_fd', 'supports_effective_ids', 'supports_fd', 'supports_follow_symlinks', 'symlink', 'sys', 'system', 'terminal_size', 'times', 'times_result', 'truncate', 'umask', 'uname_result', 'unlink', 'unsetenv', 'urandom', 'utime', 'waitpid', 'waitstatus_to_exitcode', 'walk', 'write']\n"
     ]
    }
   ],
   "source": [
    "import os\n",
    "print(dir(os), sep='\\t')\n",
    "\n"
   ]
  },
  {
   "cell_type": "code",
   "execution_count": 50,
   "id": "00b4d3db",
   "metadata": {},
   "outputs": [
    {
     "name": "stdout",
     "output_type": "stream",
     "text": [
      "C:\\Users\\omega\\Documents\\Jupyter\n",
      "C:\\Users\\omega\\anaconda3\\python311.zip\n",
      "C:\\Users\\omega\\anaconda3\\DLLs\n",
      "C:\\Users\\omega\\anaconda3\\Lib\n",
      "C:\\Users\\omega\\anaconda3\n",
      "\n",
      "C:\\Users\\omega\\anaconda3\\Lib\\site-packages\n",
      "C:\\Users\\omega\\anaconda3\\Lib\\site-packages\\win32\n",
      "C:\\Users\\omega\\anaconda3\\Lib\\site-packages\\win32\\lib\n",
      "C:\\Users\\omega\\anaconda3\\Lib\\site-packages\\Pythonwin\n",
      "..\\modules\n"
     ]
    }
   ],
   "source": [
    "import sys\n",
    "\n",
    "#sys.path.append('..\\\\modules')\n",
    "\n",
    "for p in sys.path:\n",
    "    print(p)\n",
    "\n"
   ]
  },
  {
   "cell_type": "code",
   "execution_count": null,
   "id": "c2a5511a",
   "metadata": {},
   "outputs": [],
   "source": []
  }
 ],
 "metadata": {
  "kernelspec": {
   "display_name": "Python 3 (ipykernel)",
   "language": "python",
   "name": "python3"
  },
  "language_info": {
   "codemirror_mode": {
    "name": "ipython",
    "version": 3
   },
   "file_extension": ".py",
   "mimetype": "text/x-python",
   "name": "python",
   "nbconvert_exporter": "python",
   "pygments_lexer": "ipython3",
   "version": "3.11.5"
  }
 },
 "nbformat": 4,
 "nbformat_minor": 5
}
